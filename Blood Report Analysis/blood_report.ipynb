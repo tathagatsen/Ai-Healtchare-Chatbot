{
 "cells": [
  {
   "cell_type": "code",
   "execution_count": 2,
   "metadata": {},
   "outputs": [
    {
     "name": "stdout",
     "output_type": "stream",
     "text": [
      "Accuracy: 1.0\n"
     ]
    }
   ],
   "source": [
    "# Importing necessary libraries\n",
    "import pandas as pd\n",
    "from sklearn.model_selection import train_test_split\n",
    "from sklearn.linear_model import LogisticRegression\n",
    "from sklearn.metrics import accuracy_score\n",
    "\n",
    "# Load the CSV file\n",
    "data = pd.read_csv('Blood_samples_dataset_balanced_2(f).csv')\n",
    "\n",
    "# Splitting the data into features (X) and target (y)\n",
    "X = data.drop(columns=['Disease'])\n",
    "y = data['Disease']\n",
    "\n",
    "# Splitting the data into training and testing sets\n",
    "X_train, X_test, y_train, y_test = train_test_split(X, y, test_size=0.2, random_state=42)\n",
    "\n",
    "# Initialize the logistic regression model\n",
    "model = LogisticRegression(max_iter=1000)  # You can adjust the value of max_iter as needed\n",
    "\n",
    "\n",
    "# Training the model\n",
    "model.fit(X_train, y_train)\n",
    "\n",
    "# Making predictions\n",
    "y_pred = model.predict(X_test)\n",
    "\n",
    "# Evaluating the model\n",
    "accuracy = accuracy_score(y_test, y_pred)\n",
    "print(\"Accuracy:\", accuracy)\n"
   ]
  },
  {
   "cell_type": "code",
   "execution_count": 3,
   "metadata": {},
   "outputs": [],
   "source": [
    "def predict_disease(glucose, cholesterol, hemoglobin, platelets, white_blood_cells, \n",
    "                    red_blood_cells, hematocrit, mean_corpuscular_volume, mean_corpuscular_hemoglobin,\n",
    "                    mean_corpuscular_hemoglobin_concentration, insulin, bmi, systolic_blood_pressure,\n",
    "                    diastolic_blood_pressure, triglycerides, hba1c, ldl_cholesterol, hdl_cholesterol,\n",
    "                    alt, ast, heart_rate, creatinine, troponin, c_reactive_protein):\n",
    "    # Create a DataFrame with the input values\n",
    "    new_data = pd.DataFrame({\n",
    "        'Glucose': [glucose],\n",
    "        'Cholesterol': [cholesterol],\n",
    "        'Hemoglobin': [hemoglobin],\n",
    "        'Platelets': [platelets],\n",
    "        'White Blood Cells': [white_blood_cells],\n",
    "        'Red Blood Cells': [red_blood_cells],\n",
    "        'Hematocrit': [hematocrit],\n",
    "        'Mean Corpuscular Volume': [mean_corpuscular_volume],\n",
    "        'Mean Corpuscular Hemoglobin': [mean_corpuscular_hemoglobin],\n",
    "        'Mean Corpuscular Hemoglobin Concentration': [mean_corpuscular_hemoglobin_concentration],\n",
    "        'Insulin': [insulin],\n",
    "        'BMI': [bmi],\n",
    "        'Systolic Blood Pressure': [systolic_blood_pressure],\n",
    "        'Diastolic Blood Pressure': [diastolic_blood_pressure],\n",
    "        'Triglycerides': [triglycerides],\n",
    "        'HbA1c': [hba1c],\n",
    "        'LDL Cholesterol': [ldl_cholesterol],\n",
    "        'HDL Cholesterol': [hdl_cholesterol],\n",
    "        'ALT': [alt],\n",
    "        'AST': [ast],\n",
    "        'Heart Rate': [heart_rate],\n",
    "        'Creatinine': [creatinine],\n",
    "        'Troponin': [troponin],\n",
    "        'C-reactive Protein': [c_reactive_protein]\n",
    "    })\n",
    "    \n",
    "    # Make prediction using the trained model\n",
    "    prediction = model.predict(new_data)\n",
    "    \n",
    "    return prediction[0]"
   ]
  },
  {
   "cell_type": "code",
   "execution_count": 6,
   "metadata": {},
   "outputs": [
    {
     "name": "stdout",
     "output_type": "stream",
     "text": [
      "Predicted Disease: Healthy\n"
     ]
    }
   ],
   "source": [
    "# Example values for blood report parameters\n",
    "glucose = 0.1\n",
    "cholesterol = 0.1\n",
    "hemoglobin = 0.23\n",
    "platelets = 0.45\n",
    "white_blood_cells = 0.56\n",
    "red_blood_cells = 0.78\n",
    "hematocrit = 0.23\n",
    "mean_corpuscular_volume = 0.12\n",
    "mean_corpuscular_hemoglobin = 0.56\n",
    "mean_corpuscular_hemoglobin_concentration = 0.56\n",
    "insulin = 0.67\n",
    "bmi = 0.78\n",
    "systolic_blood_pressure = 0.24\n",
    "diastolic_blood_pressure = 0.51\n",
    "triglycerides = 0.67\n",
    "hba1c = 0.1\n",
    "ldl_cholesterol = 0.1\n",
    "hdl_cholesterol = 0.1\n",
    "alt = 0.1\n",
    "ast = 0.1\n",
    "heart_rate = 0.1\n",
    "creatinine = 0.1\n",
    "troponin = 0.1\n",
    "c_reactive_protein = 0.678\n",
    "\n",
    "# Predict disease\n",
    "prediction = predict_disease(glucose, cholesterol, hemoglobin, platelets, white_blood_cells, \n",
    "                                red_blood_cells, hematocrit, mean_corpuscular_volume, \n",
    "                                mean_corpuscular_hemoglobin, mean_corpuscular_hemoglobin_concentration,\n",
    "                                insulin, bmi, systolic_blood_pressure, diastolic_blood_pressure,\n",
    "                                triglycerides, hba1c, ldl_cholesterol, hdl_cholesterol,\n",
    "                                alt, ast, heart_rate, creatinine, troponin, c_reactive_protein)\n",
    "\n",
    "print(\"Predicted Disease:\", prediction)"
   ]
  },
  {
   "cell_type": "code",
   "execution_count": 5,
   "metadata": {},
   "outputs": [
    {
     "data": {
      "text/plain": [
       "array(['Healthy', 'Diabetes', 'Thalasse', 'Anemia', 'Thromboc'],\n",
       "      dtype=object)"
      ]
     },
     "execution_count": 5,
     "metadata": {},
     "output_type": "execute_result"
    }
   ],
   "source": [
    "data['Disease'].unique()"
   ]
  }
 ],
 "metadata": {
  "kernelspec": {
   "display_name": "bap-notebook",
   "language": "python",
   "name": "bap-notebook"
  },
  "language_info": {
   "codemirror_mode": {
    "name": "ipython",
    "version": 3
   },
   "file_extension": ".py",
   "mimetype": "text/x-python",
   "name": "python",
   "nbconvert_exporter": "python",
   "pygments_lexer": "ipython3",
   "version": "3.12.1"
  }
 },
 "nbformat": 4,
 "nbformat_minor": 2
}
