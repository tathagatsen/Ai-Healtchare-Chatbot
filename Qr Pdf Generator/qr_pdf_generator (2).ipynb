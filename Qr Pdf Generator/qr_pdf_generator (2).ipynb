{
  "cells": [
    {
      "cell_type": "code",
      "execution_count": 1,
      "metadata": {
        "colab": {
          "base_uri": "https://localhost:8080/"
        },
        "id": "6cJyOIJNs8lz",
        "outputId": "4b52582c-477f-48d5-a6f4-e28dd4718d20"
      },
      "outputs": [
        {
          "output_type": "stream",
          "name": "stdout",
          "text": [
            "Collecting fpdf2\n",
            "  Downloading fpdf2-2.7.9-py2.py3-none-any.whl.metadata (58 kB)\n",
            "\u001b[2K     \u001b[90m━━━━━━━━━━━━━━━━━━━━━━━━━━━━━━━━━━━━━━━━\u001b[0m \u001b[32m58.3/58.3 kB\u001b[0m \u001b[31m2.3 MB/s\u001b[0m eta \u001b[36m0:00:00\u001b[0m\n",
            "\u001b[?25hRequirement already satisfied: defusedxml in /usr/local/lib/python3.10/dist-packages (from fpdf2) (0.7.1)\n",
            "Requirement already satisfied: Pillow!=9.2.*,>=6.2.2 in /usr/local/lib/python3.10/dist-packages (from fpdf2) (9.4.0)\n",
            "Requirement already satisfied: fonttools>=4.34.0 in /usr/local/lib/python3.10/dist-packages (from fpdf2) (4.53.1)\n",
            "Downloading fpdf2-2.7.9-py2.py3-none-any.whl (206 kB)\n",
            "\u001b[2K   \u001b[90m━━━━━━━━━━━━━━━━━━━━━━━━━━━━━━━━━━━━━━━━\u001b[0m \u001b[32m206.4/206.4 kB\u001b[0m \u001b[31m6.4 MB/s\u001b[0m eta \u001b[36m0:00:00\u001b[0m\n",
            "\u001b[?25hInstalling collected packages: fpdf2\n",
            "Successfully installed fpdf2-2.7.9\n",
            "Collecting qrcode[pil]\n",
            "  Downloading qrcode-7.4.2-py3-none-any.whl.metadata (17 kB)\n",
            "Requirement already satisfied: typing-extensions in /usr/local/lib/python3.10/dist-packages (from qrcode[pil]) (4.12.2)\n",
            "Collecting pypng (from qrcode[pil])\n",
            "  Downloading pypng-0.20220715.0-py3-none-any.whl.metadata (13 kB)\n",
            "Requirement already satisfied: pillow>=9.1.0 in /usr/local/lib/python3.10/dist-packages (from qrcode[pil]) (9.4.0)\n",
            "Downloading pypng-0.20220715.0-py3-none-any.whl (58 kB)\n",
            "\u001b[2K   \u001b[90m━━━━━━━━━━━━━━━━━━━━━━━━━━━━━━━━━━━━━━━━\u001b[0m \u001b[32m58.1/58.1 kB\u001b[0m \u001b[31m2.1 MB/s\u001b[0m eta \u001b[36m0:00:00\u001b[0m\n",
            "\u001b[?25hDownloading qrcode-7.4.2-py3-none-any.whl (46 kB)\n",
            "\u001b[2K   \u001b[90m━━━━━━━━━━━━━━━━━━━━━━━━━━━━━━━━━━━━━━━━\u001b[0m \u001b[32m46.2/46.2 kB\u001b[0m \u001b[31m3.3 MB/s\u001b[0m eta \u001b[36m0:00:00\u001b[0m\n",
            "\u001b[?25hInstalling collected packages: pypng, qrcode\n",
            "Successfully installed pypng-0.20220715.0 qrcode-7.4.2\n"
          ]
        }
      ],
      "source": [
        "!pip install fpdf2\n",
        "!pip install qrcode[pil]"
      ]
    },
    {
      "cell_type": "code",
      "source": [
        "from fpdf import FPDF\n",
        "from fpdf.enums import XPos, YPos\n",
        "\n",
        "def generate_pdf():\n",
        "    pdf = FPDF()\n",
        "    pdf.add_page()\n",
        "    pdf.set_font('helvetica', size=12)\n",
        "    pdf.cell(200, 10, text=\"Medical Prescription\", new_x=XPos.RIGHT, new_y=YPos.TOP, align='C')\n",
        "\n",
        "    # Example medical prescription content\n",
        "    patient_name = \"John Doe\"\n",
        "    medicines = [\"Medicine A\", \"Medicine B\", \"Medicine C\"]\n",
        "\n",
        "    pdf.ln(20)\n",
        "    pdf.cell(200, 10, text=f\"Patient Name: {patient_name}\", new_x=XPos.RIGHT, new_y=YPos.NEXT)\n",
        "    pdf.ln(10)\n",
        "    pdf.cell(200, 10, text=\"Prescribed Medicines:\", new_x=XPos.RIGHT, new_y=YPos.NEXT)\n",
        "    pdf.ln(10)\n",
        "    for medicine in medicines:\n",
        "        pdf.cell(200, 10, text=f\"- {medicine}\", new_x=XPos.RIGHT, new_y=YPos.NEXT)\n",
        "\n",
        "    pdf_file_path = 'medical_prescription.pdf'\n",
        "    pdf.output(pdf_file_path)\n",
        "    return pdf_file_path\n",
        "\n",
        "# Generate PDF\n",
        "pdf_file_path = generate_pdf()\n",
        "pdf_file_path\n"
      ],
      "metadata": {
        "colab": {
          "base_uri": "https://localhost:8080/",
          "height": 36
        },
        "id": "2-sMgH1n_kz9",
        "outputId": "48b17ccb-cddf-44b8-bd9b-dd422e8411c3"
      },
      "execution_count": 10,
      "outputs": [
        {
          "output_type": "execute_result",
          "data": {
            "text/plain": [
              "'medical_prescription.pdf'"
            ],
            "application/vnd.google.colaboratory.intrinsic+json": {
              "type": "string"
            }
          },
          "metadata": {},
          "execution_count": 10
        }
      ]
    },
    {
      "cell_type": "code",
      "execution_count": 3,
      "metadata": {
        "id": "DeCUJh7XyH4b"
      },
      "outputs": [],
      "source": [
        "import qrcode\n",
        "from PIL import Image\n",
        "from flask import Flask, send_file\n",
        "import io\n",
        "import datetime\n",
        "import os\n",
        "import threading\n",
        "\n",
        "app = Flask(__name__)\n",
        "\n",
        "# Generate PDF (using fpdf2) - This is similar to the previous example\n",
        "from fpdf import FPDF\n",
        "\n",
        "class PDF(FPDF):\n",
        "    def header(self):\n",
        "        self.set_font('Arial', 'B', 12)\n",
        "        self.cell(0, 10, 'Medical Prescription', align='C', ln=1)\n",
        "\n",
        "    def footer(self):\n",
        "        self.set_y(-15)\n",
        "        self.set_font('Arial', 'I', 8)\n",
        "        self.cell(0, 10, f'Page {self.page_no()}', 0, 0, 'C')\n",
        "\n",
        "    def add_prescription(self, patient_name, doctor_name, medicines):\n",
        "        self.set_font('Arial', '', 12)\n",
        "        self.cell(0, 10, f'Patient Name: {patient_name}', ln=1)\n",
        "        self.cell(0, 10, f'Doctor: {doctor_name}', ln=1)\n",
        "        self.ln(10)\n",
        "\n",
        "        self.set_font('Arial', 'I', 12)\n",
        "        self.cell(0, 10, 'Medicines:', ln=1)\n",
        "        self.ln(5)\n",
        "\n",
        "        self.set_font('Arial', '', 12)\n",
        "        for medicine in medicines:\n",
        "            self.cell(0, 10, f'- {medicine}', ln=1)\n",
        "\n",
        "# Generate and serve the PDF file\n",
        "def generate_pdf():\n",
        "    pdf = PDF()\n",
        "    pdf.add_page()\n",
        "    patient_name = 'John Doe'\n",
        "    doctor_name = 'Dr. Smith'\n",
        "    medicines = [\n",
        "        'Paracetamol 500mg - 1 tablet, three times a day after meals',\n",
        "        'Amoxicillin 250mg - 1 capsule, twice a day for 7 days'\n",
        "    ]\n",
        "    pdf.add_prescription(patient_name, doctor_name, medicines)\n",
        "\n",
        "    pdf_file_path = 'medical_prescription.pdf'\n",
        "    pdf.output(pdf_file_path)\n",
        "    return pdf_file_path"
      ]
    },
    {
      "cell_type": "code",
      "execution_count": 4,
      "metadata": {
        "id": "ZteeTvSrzHaJ"
      },
      "outputs": [],
      "source": [
        "# Endpoint to serve the time-limited PDF file\n",
        "@app.route('/download_pdf')\n",
        "def download_pdf():\n",
        "    pdf_file_path = generate_pdf()\n",
        "    return send_file(pdf_file_path, as_attachment=True)"
      ]
    },
    {
      "cell_type": "code",
      "execution_count": 5,
      "metadata": {
        "id": "hiAse_NWzECa"
      },
      "outputs": [],
      "source": [
        "# Generate QR Code for the time-limited PDF download URL\n",
        "def generate_qr_code():\n",
        "    download_url = 'https://chat.openai.com/'\n",
        "    qr = qrcode.QRCode(version=1, box_size=10, border=5)\n",
        "    qr.add_data(download_url)\n",
        "    qr.make(fit=True)\n",
        "\n",
        "    qr_file_path = 'prescription_qr.png'\n",
        "    qr_img = qr.make_image(fill='black', back_color='white')\n",
        "    qr_img.save(qr_file_path)\n",
        "    print(f'QR Code saved as \"{qr_file_path}\"')"
      ]
    },
    {
      "cell_type": "code",
      "execution_count": 6,
      "metadata": {
        "colab": {
          "base_uri": "https://localhost:8080/"
        },
        "id": "oIxOCPE7y_3g",
        "outputId": "33319b82-88e2-41e0-e8b1-5622ac003564"
      },
      "outputs": [
        {
          "output_type": "stream",
          "name": "stdout",
          "text": [
            "QR Code saved as \"prescription_qr.png\"\n",
            " * Serving Flask app '__main__'\n",
            " * Debug mode: off\n"
          ]
        },
        {
          "output_type": "stream",
          "name": "stderr",
          "text": [
            "INFO:werkzeug:\u001b[31m\u001b[1mWARNING: This is a development server. Do not use it in a production deployment. Use a production WSGI server instead.\u001b[0m\n",
            " * Running on http://127.0.0.1:5000\n",
            "INFO:werkzeug:\u001b[33mPress CTRL+C to quit\u001b[0m\n"
          ]
        }
      ],
      "source": [
        "# Function to remove the QR code file after expiration\n",
        "def remove_qr_code():\n",
        "    qr_file_path = 'prescription_qr.png'\n",
        "    if os.path.exists(qr_file_path):\n",
        "        os.remove(qr_file_path)\n",
        "        print(f'Removed expired QR Code: \"{qr_file_path}\"')\n",
        "\n",
        "# Schedule QR code removal after 10 minutes\n",
        "def schedule_qr_code_removal():\n",
        "    threading.Timer(300, remove_qr_code).start()  # 600 seconds = 10 minutes\n",
        "\n",
        "# Main function to start the Flask app and generate QR code\n",
        "if __name__ == '__main__':\n",
        "    generate_qr_code()\n",
        "    schedule_qr_code_removal()\n",
        "    app.run()\n"
      ]
    },
    {
      "cell_type": "code",
      "execution_count": null,
      "metadata": {
        "id": "EnlAByOOIKZp"
      },
      "outputs": [],
      "source": []
    }
  ],
  "metadata": {
    "colab": {
      "provenance": []
    },
    "kernelspec": {
      "display_name": "Python 3",
      "name": "python3"
    },
    "language_info": {
      "name": "python"
    }
  },
  "nbformat": 4,
  "nbformat_minor": 0
}