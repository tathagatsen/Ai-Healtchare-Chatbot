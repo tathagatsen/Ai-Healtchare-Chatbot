{
 "cells": [
  {
   "cell_type": "code",
   "execution_count": 8,
   "metadata": {},
   "outputs": [],
   "source": [
    "import pandas as pd\n",
    "from sklearn.model_selection import train_test_split\n",
    "from sklearn.preprocessing import StandardScaler, OneHotEncoder\n",
    "from sklearn.impute import SimpleImputer\n",
    "from sklearn.compose import ColumnTransformer\n",
    "from sklearn.pipeline import Pipeline\n",
    "from sklearn.ensemble import RandomForestClassifier\n",
    "from sklearn.metrics import classification_report\n"
   ]
  },
  {
   "cell_type": "code",
   "execution_count": 20,
   "metadata": {},
   "outputs": [
    {
     "name": "stdout",
     "output_type": "stream",
     "text": [
      "Recommended medications for Acne and pregnancy category X :\n",
      "Medication: Tazorac\n",
      "Rating: 8.0\n",
      "Number of Reviews: 30.0\n",
      "Description: Acne Other names: Acne Vulgaris; Blackheads; Breakouts; Cystic acne; Pimples; Whiteheads; Zits Acne is a skin condition caused by dead skin cells sticking together and clogging up pores. Bacteria can play a role, too. A big trigger for the onset of acne is puberty. Better nutrition and living standards have seen the age of puberty, especially in girls, decrease significantly over the past 40 years. It is now not uncommon for girls as young as 7 to develop acne. Acne is also affecting more adults later in life and doctors are not sure why. A growing number of women have acne in their 30s, 40s, 50s, and beyond. What Causes Acne? Our body constantly makes and sheds skin. Normally, dead skin cells rise to the surface of the pore and just flake off our body. At puberty, hormones trigger the production of sebum - an oily substance that helps moisturize our skin. Sebum sticks dead skin cells together, increasing their chances of becoming trapped inside a pore. Clogged pores become blackheads, whiteheads or pimples. If bacteria are also present, redness and swelling can occur resulting in the progression of the pimple into a cyst or nodule. Who is More at Risk of Acne? Unfortunately, some people suffer from acne worse than others. Bad acne tends to run in families - your mother, father, aunt or uncle probably had severe breakouts when they were a teenager. Some people also have naturally higher hormone levels and make more sebum, so their skin pores are always clogging up. If you live in an area that gets very humid or have a job which exposes you to moist heat (such as in a food kitchen) or grease or tar (a mechanic or road worker) then you are more likely to get acne. Chin straps, headbands, and even hair products applied too close to the skin can precipitate a break out as several different medicines - most notably prednisone, phenytoin, and certain hormonal contraceptives that are high in androgens (for example, Microgestin 1.5/30 and the Depo-Provera shot). What are the Symptoms of Acne? Acne may appear on the face, forehead, chest, upper back or shoulders. The symptoms and severity of acne vary from person to person but may include: Whiteheads Blackheads Papules (small, red, tender bumps) Pimples (papules with pus at their tips) Nodules (large solid painful lumps beneath the skin surface Cystic lesions (painful pus-filled lumps beneath the skin’s surface). How is Acne Diagnosed? If your acne makes you shy or embarrassed, if you have a lot of acne, cysts or nodules on your face or back, or if over the counter products do not seem to work, see your doctor or a dermatologist as soon as you can. They can prescribe stronger topical or oral treatments that are much more effective than products you can buy at a drug store. Your doctor will look at your skin and ask about the history of your acne. It is a myth that you have to let acne run its course. Treatment helps prevent dark spots and permanent scars from forming as the acne clears. How is Acne Treated? The most important thing you can do to reduce the chance of breakouts is to take good care of your skin. This doesn't mean scrubbing it raw several times a day with soap. It means gently cleansing it with a mild soap-free wash twice a day, every day. If you play a lot of sport or work in a greasy or humid environment, cleanse your skin as soon as you finish training or right after work. Be gentle. You aim to cleanse away excess sebum and dead skin cells so they don't clog up your pores - not to irritate your skin even further. The first step to clear skin is clean skin. Look for a cleanser that is soap-free and does not contain any harsh detergents such as sodium lauryl or laureth sulfates, which can cause redness, irritation, and inflammation. Avoid pore-clogging ingredients as well, such as algae extract, carrageenan, lanolin, myristyl myristate, octyl palmitate, octyl stearate-5, and oleth-3. Anti-acne ingredients work by removing dead skin cells, unclogging pores, or reducing bacteria numbers on the skin. Acne treatments usually contain one of the following ingredients (some of which are only available on prescription): Benzoyl peroxide Salicyclic acid Resorcinol Azelaic acid Dapsone gel Retinoids and retinoid-like creams, gels, and lotions Topical antibiotics Oral antibiotics (eg, tetracyclines, Combined oral contraceptives Oral isotretinoin Spironolactone Lasers and photodynamic therapy Chemical peels Steroid injections. If you have severe acne you need to be very proactive with skin cleansing and using acne treatment. Seeing a dermatologist early on for prescription products lessens the chances of being left with permanent scars. How Can I Prevent Acne? Gently wash your face twice a day and after sweating. Shampoo your hair regularly. Do not pick or squeeze your acne; this increases the risk of scars. Keep your hands off your face. Wash your hands before applying make-up. Be careful what you put on your face, and avoid ingredients that promote acne. Stay out of the sun and off tanning beds; excess tanning can damage your skin. See a dermatologist if you feel shy or products don't work.\n",
      "\n",
      "Medication: tazarotene\n",
      "Rating: 7.3\n",
      "Number of Reviews: 52.0\n",
      "Description: Acne Other names: Acne Vulgaris; Blackheads; Breakouts; Cystic acne; Pimples; Whiteheads; Zits Acne is a skin condition caused by dead skin cells sticking together and clogging up pores. Bacteria can play a role, too. A big trigger for the onset of acne is puberty. Better nutrition and living standards have seen the age of puberty, especially in girls, decrease significantly over the past 40 years. It is now not uncommon for girls as young as 7 to develop acne. Acne is also affecting more adults later in life and doctors are not sure why. A growing number of women have acne in their 30s, 40s, 50s, and beyond. What Causes Acne? Our body constantly makes and sheds skin. Normally, dead skin cells rise to the surface of the pore and just flake off our body. At puberty, hormones trigger the production of sebum - an oily substance that helps moisturize our skin. Sebum sticks dead skin cells together, increasing their chances of becoming trapped inside a pore. Clogged pores become blackheads, whiteheads or pimples. If bacteria are also present, redness and swelling can occur resulting in the progression of the pimple into a cyst or nodule. Who is More at Risk of Acne? Unfortunately, some people suffer from acne worse than others. Bad acne tends to run in families - your mother, father, aunt or uncle probably had severe breakouts when they were a teenager. Some people also have naturally higher hormone levels and make more sebum, so their skin pores are always clogging up. If you live in an area that gets very humid or have a job which exposes you to moist heat (such as in a food kitchen) or grease or tar (a mechanic or road worker) then you are more likely to get acne. Chin straps, headbands, and even hair products applied too close to the skin can precipitate a break out as several different medicines - most notably prednisone, phenytoin, and certain hormonal contraceptives that are high in androgens (for example, Microgestin 1.5/30 and the Depo-Provera shot). What are the Symptoms of Acne? Acne may appear on the face, forehead, chest, upper back or shoulders. The symptoms and severity of acne vary from person to person but may include: Whiteheads Blackheads Papules (small, red, tender bumps) Pimples (papules with pus at their tips) Nodules (large solid painful lumps beneath the skin surface Cystic lesions (painful pus-filled lumps beneath the skin’s surface). How is Acne Diagnosed? If your acne makes you shy or embarrassed, if you have a lot of acne, cysts or nodules on your face or back, or if over the counter products do not seem to work, see your doctor or a dermatologist as soon as you can. They can prescribe stronger topical or oral treatments that are much more effective than products you can buy at a drug store. Your doctor will look at your skin and ask about the history of your acne. It is a myth that you have to let acne run its course. Treatment helps prevent dark spots and permanent scars from forming as the acne clears. How is Acne Treated? The most important thing you can do to reduce the chance of breakouts is to take good care of your skin. This doesn't mean scrubbing it raw several times a day with soap. It means gently cleansing it with a mild soap-free wash twice a day, every day. If you play a lot of sport or work in a greasy or humid environment, cleanse your skin as soon as you finish training or right after work. Be gentle. You aim to cleanse away excess sebum and dead skin cells so they don't clog up your pores - not to irritate your skin even further. The first step to clear skin is clean skin. Look for a cleanser that is soap-free and does not contain any harsh detergents such as sodium lauryl or laureth sulfates, which can cause redness, irritation, and inflammation. Avoid pore-clogging ingredients as well, such as algae extract, carrageenan, lanolin, myristyl myristate, octyl palmitate, octyl stearate-5, and oleth-3. Anti-acne ingredients work by removing dead skin cells, unclogging pores, or reducing bacteria numbers on the skin. Acne treatments usually contain one of the following ingredients (some of which are only available on prescription): Benzoyl peroxide Salicyclic acid Resorcinol Azelaic acid Dapsone gel Retinoids and retinoid-like creams, gels, and lotions Topical antibiotics Oral antibiotics (eg, tetracyclines, Combined oral contraceptives Oral isotretinoin Spironolactone Lasers and photodynamic therapy Chemical peels Steroid injections. If you have severe acne you need to be very proactive with skin cleansing and using acne treatment. Seeing a dermatologist early on for prescription products lessens the chances of being left with permanent scars. How Can I Prevent Acne? Gently wash your face twice a day and after sweating. Shampoo your hair regularly. Do not pick or squeeze your acne; this increases the risk of scars. Keep your hands off your face. Wash your hands before applying make-up. Be careful what you put on your face, and avoid ingredients that promote acne. Stay out of the sun and off tanning beds; excess tanning can damage your skin. See a dermatologist if you feel shy or products don't work.\n",
      "\n",
      "Medication: Fabior\n",
      "Rating: 7.1\n",
      "Number of Reviews: 9.0\n",
      "Description: Acne Other names: Acne Vulgaris; Blackheads; Breakouts; Cystic acne; Pimples; Whiteheads; Zits Acne is a skin condition caused by dead skin cells sticking together and clogging up pores. Bacteria can play a role, too. A big trigger for the onset of acne is puberty. Better nutrition and living standards have seen the age of puberty, especially in girls, decrease significantly over the past 40 years. It is now not uncommon for girls as young as 7 to develop acne. Acne is also affecting more adults later in life and doctors are not sure why. A growing number of women have acne in their 30s, 40s, 50s, and beyond. What Causes Acne? Our body constantly makes and sheds skin. Normally, dead skin cells rise to the surface of the pore and just flake off our body. At puberty, hormones trigger the production of sebum - an oily substance that helps moisturize our skin. Sebum sticks dead skin cells together, increasing their chances of becoming trapped inside a pore. Clogged pores become blackheads, whiteheads or pimples. If bacteria are also present, redness and swelling can occur resulting in the progression of the pimple into a cyst or nodule. Who is More at Risk of Acne? Unfortunately, some people suffer from acne worse than others. Bad acne tends to run in families - your mother, father, aunt or uncle probably had severe breakouts when they were a teenager. Some people also have naturally higher hormone levels and make more sebum, so their skin pores are always clogging up. If you live in an area that gets very humid or have a job which exposes you to moist heat (such as in a food kitchen) or grease or tar (a mechanic or road worker) then you are more likely to get acne. Chin straps, headbands, and even hair products applied too close to the skin can precipitate a break out as several different medicines - most notably prednisone, phenytoin, and certain hormonal contraceptives that are high in androgens (for example, Microgestin 1.5/30 and the Depo-Provera shot). What are the Symptoms of Acne? Acne may appear on the face, forehead, chest, upper back or shoulders. The symptoms and severity of acne vary from person to person but may include: Whiteheads Blackheads Papules (small, red, tender bumps) Pimples (papules with pus at their tips) Nodules (large solid painful lumps beneath the skin surface Cystic lesions (painful pus-filled lumps beneath the skin’s surface). How is Acne Diagnosed? If your acne makes you shy or embarrassed, if you have a lot of acne, cysts or nodules on your face or back, or if over the counter products do not seem to work, see your doctor or a dermatologist as soon as you can. They can prescribe stronger topical or oral treatments that are much more effective than products you can buy at a drug store. Your doctor will look at your skin and ask about the history of your acne. It is a myth that you have to let acne run its course. Treatment helps prevent dark spots and permanent scars from forming as the acne clears. How is Acne Treated? The most important thing you can do to reduce the chance of breakouts is to take good care of your skin. This doesn't mean scrubbing it raw several times a day with soap. It means gently cleansing it with a mild soap-free wash twice a day, every day. If you play a lot of sport or work in a greasy or humid environment, cleanse your skin as soon as you finish training or right after work. Be gentle. You aim to cleanse away excess sebum and dead skin cells so they don't clog up your pores - not to irritate your skin even further. The first step to clear skin is clean skin. Look for a cleanser that is soap-free and does not contain any harsh detergents such as sodium lauryl or laureth sulfates, which can cause redness, irritation, and inflammation. Avoid pore-clogging ingredients as well, such as algae extract, carrageenan, lanolin, myristyl myristate, octyl palmitate, octyl stearate-5, and oleth-3. Anti-acne ingredients work by removing dead skin cells, unclogging pores, or reducing bacteria numbers on the skin. Acne treatments usually contain one of the following ingredients (some of which are only available on prescription): Benzoyl peroxide Salicyclic acid Resorcinol Azelaic acid Dapsone gel Retinoids and retinoid-like creams, gels, and lotions Topical antibiotics Oral antibiotics (eg, tetracyclines, Combined oral contraceptives Oral isotretinoin Spironolactone Lasers and photodynamic therapy Chemical peels Steroid injections. If you have severe acne you need to be very proactive with skin cleansing and using acne treatment. Seeing a dermatologist early on for prescription products lessens the chances of being left with permanent scars. How Can I Prevent Acne? Gently wash your face twice a day and after sweating. Shampoo your hair regularly. Do not pick or squeeze your acne; this increases the risk of scars. Keep your hands off your face. Wash your hands before applying make-up. Be careful what you put on your face, and avoid ingredients that promote acne. Stay out of the sun and off tanning beds; excess tanning can damage your skin. See a dermatologist if you feel shy or products don't work.\n",
      "\n"
     ]
    }
   ],
   "source": [
    "import pandas as pd\n",
    "\n",
    "# Read the CSV file into a pandas DataFrame\n",
    "df = pd.read_csv('drugs_for_common_treatments.csv')\n",
    "\n",
    "\n",
    "def recommend_medication(df, medical_condition, pregnancy_category, rating_threshold=6.0):\n",
    "    # Filter the DataFrame based on medical condition, pregnancy category, rating threshold, rx_otc, csa, and alcohol\n",
    "    recommendations = df[(df['medical_condition'] == medical_condition) & \n",
    "                         (df['pregnancy_category'] == pregnancy_category) &\n",
    "                         (df['rating'] >= rating_threshold) &\n",
    "                         (df['rx_otc'] == 'Rx') &\n",
    "                         (df['csa'].isin(['N', 'U'])) &\n",
    "                         (df['alcohol'] != 'X')]\n",
    "    \n",
    "    # Sort the recommendations by rating in descending order\n",
    "    recommendations = recommendations.sort_values(by='rating', ascending=False)\n",
    "    \n",
    "    return recommendations\n",
    "\n",
    "def main():\n",
    "    medical_condition = input(\"Enter medical condition: \")\n",
    "    pregnancy_category = input(\"Enter pregnancy category (A, B, C, D, X): \")\n",
    "    recommended_medications = recommend_medication(df, medical_condition, pregnancy_category)\n",
    "    if not recommended_medications.empty:\n",
    "        print(\"Recommended medications for\", medical_condition, \"and pregnancy category\", pregnancy_category, \":\")\n",
    "        for index, row in recommended_medications.iterrows():\n",
    "            print(\"Medication:\", row['drug_name'])\n",
    "            print(\"Rating:\", row['rating'])\n",
    "            print(\"Number of Reviews:\", row['no_of_reviews'])\n",
    "            print(\"Description:\", row['medical_condition_description'])\n",
    "            print()\n",
    "    else:\n",
    "        print(\"No medications found for\", medical_condition, \"and pregnancy category\", pregnancy_category)\n",
    "\n",
    "if __name__ == \"__main__\":\n",
    "    main()\n"
   ]
  }
 ],
 "metadata": {
  "kernelspec": {
   "display_name": "my-python3-kernel",
   "language": "python",
   "name": "my-python3-kernel"
  },
  "language_info": {
   "codemirror_mode": {
    "name": "ipython",
    "version": 3
   },
   "file_extension": ".py",
   "mimetype": "text/x-python",
   "name": "python",
   "nbconvert_exporter": "python",
   "pygments_lexer": "ipython3",
   "version": "3.12.1"
  }
 },
 "nbformat": 4,
 "nbformat_minor": 2
}
